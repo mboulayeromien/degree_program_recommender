{
 "cells": [
  {
   "cell_type": "code",
   "execution_count": 2,
   "id": "1ca74aef",
   "metadata": {},
   "outputs": [
    {
     "name": "stdout",
     "output_type": "stream",
     "text": [
      "Defaulting to user installation because normal site-packages is not writeable\n",
      "Collecting efficient-apriori\n",
      "  Using cached efficient_apriori-2.0.3-py3-none-any.whl (14 kB)\n",
      "Installing collected packages: efficient-apriori\n",
      "Successfully installed efficient-apriori-2.0.3\n"
     ]
    }
   ],
   "source": [
    "!pip install efficient-apriori"
   ]
  },
  {
   "cell_type": "code",
   "execution_count": 6,
   "id": "044b664f",
   "metadata": {},
   "outputs": [
    {
     "name": "stdout",
     "output_type": "stream",
     "text": [
      "[{eggs} -> {bacon}, {bacon} -> {eggs}, {soup} -> {bacon}, {bacon} -> {soup}]\n"
     ]
    }
   ],
   "source": [
    "import pandas as pd\n",
    "\n",
    "from efficient_apriori import apriori\n",
    "transactions = [('eggs', 'bacon', 'soup'),\n",
    "                ('eggs', 'bacon', 'apple'),\n",
    "                ('soup', 'bacon', 'banana')]\n",
    "itemsets, rules = apriori(transactions, output_transaction_ids=True)\n",
    "# print(itemsets)\n",
    "print(rules.__str__())"
   ]
  },
  {
   "cell_type": "code",
   "execution_count": null,
   "id": "fe7e09b6",
   "metadata": {},
   "outputs": [],
   "source": [
    "!"
   ]
  },
  {
   "cell_type": "code",
   "execution_count": 2,
   "id": "18636a79",
   "metadata": {},
   "outputs": [],
   "source": [
    "subjects = ['ICT', 'BIOLOGY', 'GEOLOGY', 'HISTORY', 'ECONOMICS', 'GEOGRAPHY', 'MARKETING', 'DATA PROCESSING',\n",
    "            'BUSINESS MATHEMATICS', 'BUSINESS MANAGEMENT',\n",
    "            'PHYSICS', 'MATHEMATICS AND MECHANICS', 'CHEMISTRY', 'PHILOSOPHY', 'LITERATURE IN ENGLISH',\n",
    "            'RELIGIOUS STUDIES', 'PURE MATHEMATICS WITH STATISTICS',\n",
    "            'FRENCH', 'FOOD SCIENCE AND NUTRITION', 'FURTHER MATHEMATICS', 'PURE MATHEMATICS WITH MECHANICS',\n",
    "            'COMMERCE AND FINANCE', 'ENGLISH LANGUAGE',\n",
    "            'COMPUTER SCIENCE', 'ACCOUNTING', 'LAW', 'COMMUNICATION SKILLS', 'SECRETERIAL ADMINISTRATION',\n",
    "            'ENGINEERING SCIENCE']\n",
    "grades = ['A', 'B', 'C', 'D', 'E']"
   ]
  },
  {
   "cell_type": "code",
   "execution_count": 3,
   "id": "7b07ccb3",
   "metadata": {},
   "outputs": [],
   "source": [
    "stud_subjects = ['FOOD SCIENCE AND NUTRITION','BUSINESS MATHEMATICS','COMMUNICATION SKILLS','SECRETERIAL ADMINISTRATION','PHILOSOPHY']\n",
    "stud_grades = ['A','B', 'D', 'D']"
   ]
  },
  {
   "cell_type": "code",
   "execution_count": 4,
   "id": "feecfcf6",
   "metadata": {},
   "outputs": [],
   "source": [
    "# stud"
   ]
  },
  {
   "cell_type": "code",
   "execution_count": 5,
   "id": "7f1846f3",
   "metadata": {
    "scrolled": false
   },
   "outputs": [
    {
     "data": {
      "text/html": [
       "<div>\n",
       "<style scoped>\n",
       "    .dataframe tbody tr th:only-of-type {\n",
       "        vertical-align: middle;\n",
       "    }\n",
       "\n",
       "    .dataframe tbody tr th {\n",
       "        vertical-align: top;\n",
       "    }\n",
       "\n",
       "    .dataframe thead th {\n",
       "        text-align: right;\n",
       "    }\n",
       "</style>\n",
       "<table border=\"1\" class=\"dataframe\">\n",
       "  <thead>\n",
       "    <tr style=\"text-align: right;\">\n",
       "      <th></th>\n",
       "      <th>ICT</th>\n",
       "      <th>BIOLOGY</th>\n",
       "      <th>GEOLOGY</th>\n",
       "      <th>HISTORY</th>\n",
       "      <th>ECONOMICS</th>\n",
       "      <th>GEOGRAPHY</th>\n",
       "      <th>MARKETING</th>\n",
       "      <th>DATA PROCESSING</th>\n",
       "      <th>BUSINESS MATHEMATICS</th>\n",
       "      <th>BUSINESS MANAGEMENT</th>\n",
       "      <th>...</th>\n",
       "      <th>FURTHER MATHEMATICS</th>\n",
       "      <th>PURE MATHEMATICS WITH MECHANICS</th>\n",
       "      <th>COMMERCE AND FINANCE</th>\n",
       "      <th>ENGLISH LANGUAGE</th>\n",
       "      <th>COMPUTER SCIENCE</th>\n",
       "      <th>ACCOUNTING</th>\n",
       "      <th>LAW</th>\n",
       "      <th>COMMUNICATION SKILLS</th>\n",
       "      <th>SECRETERIAL ADMINISTRATION</th>\n",
       "      <th>ENGINEERING SCIENCE</th>\n",
       "    </tr>\n",
       "  </thead>\n",
       "  <tbody>\n",
       "  </tbody>\n",
       "</table>\n",
       "<p>0 rows × 29 columns</p>\n",
       "</div>"
      ],
      "text/plain": [
       "Empty DataFrame\n",
       "Columns: [ICT, BIOLOGY, GEOLOGY, HISTORY, ECONOMICS, GEOGRAPHY, MARKETING, DATA PROCESSING, BUSINESS MATHEMATICS, BUSINESS MANAGEMENT, PHYSICS, MATHEMATICS AND MECHANICS, CHEMISTRY, PHILOSOPHY, LITERATURE IN ENGLISH, RELIGIOUS STUDIES, PURE MATHEMATICS WITH STATISTICS, FRENCH, FOOD SCIENCE AND NUTRITION, FURTHER MATHEMATICS, PURE MATHEMATICS WITH MECHANICS, COMMERCE AND FINANCE, ENGLISH LANGUAGE, COMPUTER SCIENCE, ACCOUNTING, LAW, COMMUNICATION SKILLS, SECRETERIAL ADMINISTRATION, ENGINEERING SCIENCE]\n",
       "Index: []\n",
       "\n",
       "[0 rows x 29 columns]"
      ]
     },
     "execution_count": 5,
     "metadata": {},
     "output_type": "execute_result"
    }
   ],
   "source": [
    "df = pd.DataFrame(columns=subjects)\n",
    "stud = dict(zip(subjects, stud_grades))\n",
    "df.head()"
   ]
  },
  {
   "cell_type": "code",
   "execution_count": 6,
   "id": "5a7b937a",
   "metadata": {},
   "outputs": [],
   "source": [
    "# stud_now = [item for item in set(subjects) not in set(stud_subjects)]"
   ]
  },
  {
   "cell_type": "code",
   "execution_count": 8,
   "id": "5957efa2",
   "metadata": {},
   "outputs": [],
   "source": [
    "# df.update(stud)"
   ]
  },
  {
   "cell_type": "code",
   "execution_count": 9,
   "id": "f17e1cbb",
   "metadata": {},
   "outputs": [
    {
     "data": {
      "text/html": [
       "<div>\n",
       "<style scoped>\n",
       "    .dataframe tbody tr th:only-of-type {\n",
       "        vertical-align: middle;\n",
       "    }\n",
       "\n",
       "    .dataframe tbody tr th {\n",
       "        vertical-align: top;\n",
       "    }\n",
       "\n",
       "    .dataframe thead th {\n",
       "        text-align: right;\n",
       "    }\n",
       "</style>\n",
       "<table border=\"1\" class=\"dataframe\">\n",
       "  <thead>\n",
       "    <tr style=\"text-align: right;\">\n",
       "      <th></th>\n",
       "      <th>ICT</th>\n",
       "      <th>BIOLOGY</th>\n",
       "      <th>GEOLOGY</th>\n",
       "      <th>HISTORY</th>\n",
       "      <th>ECONOMICS</th>\n",
       "      <th>GEOGRAPHY</th>\n",
       "      <th>MARKETING</th>\n",
       "      <th>DATA PROCESSING</th>\n",
       "      <th>BUSINESS MATHEMATICS</th>\n",
       "      <th>BUSINESS MANAGEMENT</th>\n",
       "      <th>...</th>\n",
       "      <th>FURTHER MATHEMATICS</th>\n",
       "      <th>PURE MATHEMATICS WITH MECHANICS</th>\n",
       "      <th>COMMERCE AND FINANCE</th>\n",
       "      <th>ENGLISH LANGUAGE</th>\n",
       "      <th>COMPUTER SCIENCE</th>\n",
       "      <th>ACCOUNTING</th>\n",
       "      <th>LAW</th>\n",
       "      <th>COMMUNICATION SKILLS</th>\n",
       "      <th>SECRETERIAL ADMINISTRATION</th>\n",
       "      <th>ENGINEERING SCIENCE</th>\n",
       "    </tr>\n",
       "  </thead>\n",
       "  <tbody>\n",
       "  </tbody>\n",
       "</table>\n",
       "<p>0 rows × 29 columns</p>\n",
       "</div>"
      ],
      "text/plain": [
       "Empty DataFrame\n",
       "Columns: [ICT, BIOLOGY, GEOLOGY, HISTORY, ECONOMICS, GEOGRAPHY, MARKETING, DATA PROCESSING, BUSINESS MATHEMATICS, BUSINESS MANAGEMENT, PHYSICS, MATHEMATICS AND MECHANICS, CHEMISTRY, PHILOSOPHY, LITERATURE IN ENGLISH, RELIGIOUS STUDIES, PURE MATHEMATICS WITH STATISTICS, FRENCH, FOOD SCIENCE AND NUTRITION, FURTHER MATHEMATICS, PURE MATHEMATICS WITH MECHANICS, COMMERCE AND FINANCE, ENGLISH LANGUAGE, COMPUTER SCIENCE, ACCOUNTING, LAW, COMMUNICATION SKILLS, SECRETERIAL ADMINISTRATION, ENGINEERING SCIENCE]\n",
       "Index: []\n",
       "\n",
       "[0 rows x 29 columns]"
      ]
     },
     "execution_count": 9,
     "metadata": {},
     "output_type": "execute_result"
    }
   ],
   "source": [
    "df.head()"
   ]
  },
  {
   "cell_type": "code",
   "execution_count": 10,
   "id": "0c5d446e",
   "metadata": {},
   "outputs": [],
   "source": [
    "for i in subjects:\n",
    "    if i not in stud_subjects:\n",
    "        df[i] = 0\n",
    "#     else:\n",
    "#         df[i] = stud_grades\n",
    "# i+=1"
   ]
  },
  {
   "cell_type": "code",
   "execution_count": 11,
   "id": "8f816c69",
   "metadata": {},
   "outputs": [
    {
     "data": {
      "text/html": [
       "<div>\n",
       "<style scoped>\n",
       "    .dataframe tbody tr th:only-of-type {\n",
       "        vertical-align: middle;\n",
       "    }\n",
       "\n",
       "    .dataframe tbody tr th {\n",
       "        vertical-align: top;\n",
       "    }\n",
       "\n",
       "    .dataframe thead th {\n",
       "        text-align: right;\n",
       "    }\n",
       "</style>\n",
       "<table border=\"1\" class=\"dataframe\">\n",
       "  <thead>\n",
       "    <tr style=\"text-align: right;\">\n",
       "      <th></th>\n",
       "      <th>ICT</th>\n",
       "      <th>BIOLOGY</th>\n",
       "      <th>GEOLOGY</th>\n",
       "      <th>HISTORY</th>\n",
       "      <th>ECONOMICS</th>\n",
       "      <th>GEOGRAPHY</th>\n",
       "      <th>MARKETING</th>\n",
       "      <th>DATA PROCESSING</th>\n",
       "      <th>BUSINESS MATHEMATICS</th>\n",
       "      <th>BUSINESS MANAGEMENT</th>\n",
       "      <th>...</th>\n",
       "      <th>FURTHER MATHEMATICS</th>\n",
       "      <th>PURE MATHEMATICS WITH MECHANICS</th>\n",
       "      <th>COMMERCE AND FINANCE</th>\n",
       "      <th>ENGLISH LANGUAGE</th>\n",
       "      <th>COMPUTER SCIENCE</th>\n",
       "      <th>ACCOUNTING</th>\n",
       "      <th>LAW</th>\n",
       "      <th>COMMUNICATION SKILLS</th>\n",
       "      <th>SECRETERIAL ADMINISTRATION</th>\n",
       "      <th>ENGINEERING SCIENCE</th>\n",
       "    </tr>\n",
       "  </thead>\n",
       "  <tbody>\n",
       "  </tbody>\n",
       "</table>\n",
       "<p>0 rows × 29 columns</p>\n",
       "</div>"
      ],
      "text/plain": [
       "Empty DataFrame\n",
       "Columns: [ICT, BIOLOGY, GEOLOGY, HISTORY, ECONOMICS, GEOGRAPHY, MARKETING, DATA PROCESSING, BUSINESS MATHEMATICS, BUSINESS MANAGEMENT, PHYSICS, MATHEMATICS AND MECHANICS, CHEMISTRY, PHILOSOPHY, LITERATURE IN ENGLISH, RELIGIOUS STUDIES, PURE MATHEMATICS WITH STATISTICS, FRENCH, FOOD SCIENCE AND NUTRITION, FURTHER MATHEMATICS, PURE MATHEMATICS WITH MECHANICS, COMMERCE AND FINANCE, ENGLISH LANGUAGE, COMPUTER SCIENCE, ACCOUNTING, LAW, COMMUNICATION SKILLS, SECRETERIAL ADMINISTRATION, ENGINEERING SCIENCE]\n",
       "Index: []\n",
       "\n",
       "[0 rows x 29 columns]"
      ]
     },
     "execution_count": 11,
     "metadata": {},
     "output_type": "execute_result"
    }
   ],
   "source": [
    "df.head()"
   ]
  },
  {
   "cell_type": "code",
   "execution_count": 12,
   "id": "8e030b64",
   "metadata": {},
   "outputs": [
    {
     "data": {
      "text/plain": [
       "(0, 29)"
      ]
     },
     "execution_count": 12,
     "metadata": {},
     "output_type": "execute_result"
    }
   ],
   "source": [
    "df.shape"
   ]
  },
  {
   "cell_type": "code",
   "execution_count": 33,
   "id": "cd77076d",
   "metadata": {},
   "outputs": [],
   "source": [
    "d = pd.DataFrame(stud.items())"
   ]
  },
  {
   "cell_type": "code",
   "execution_count": 34,
   "id": "d8238389",
   "metadata": {},
   "outputs": [],
   "source": [
    "df.update(df[d])"
   ]
  },
  {
   "cell_type": "code",
   "execution_count": 37,
   "id": "882fc0a4",
   "metadata": {},
   "outputs": [
    {
     "data": {
      "text/html": [
       "<div>\n",
       "<style scoped>\n",
       "    .dataframe tbody tr th:only-of-type {\n",
       "        vertical-align: middle;\n",
       "    }\n",
       "\n",
       "    .dataframe tbody tr th {\n",
       "        vertical-align: top;\n",
       "    }\n",
       "\n",
       "    .dataframe thead th {\n",
       "        text-align: right;\n",
       "    }\n",
       "</style>\n",
       "<table border=\"1\" class=\"dataframe\">\n",
       "  <thead>\n",
       "    <tr style=\"text-align: right;\">\n",
       "      <th></th>\n",
       "      <th>0</th>\n",
       "      <th>1</th>\n",
       "      <th>2</th>\n",
       "      <th>3</th>\n",
       "    </tr>\n",
       "  </thead>\n",
       "  <tbody>\n",
       "    <tr>\n",
       "      <th>0</th>\n",
       "      <td>ICT</td>\n",
       "      <td>BIOLOGY</td>\n",
       "      <td>GEOLOGY</td>\n",
       "      <td>HISTORY</td>\n",
       "    </tr>\n",
       "    <tr>\n",
       "      <th>1</th>\n",
       "      <td>A</td>\n",
       "      <td>B</td>\n",
       "      <td>D</td>\n",
       "      <td>D</td>\n",
       "    </tr>\n",
       "  </tbody>\n",
       "</table>\n",
       "</div>"
      ],
      "text/plain": [
       "     0        1        2        3\n",
       "0  ICT  BIOLOGY  GEOLOGY  HISTORY\n",
       "1    A        B        D        D"
      ]
     },
     "execution_count": 37,
     "metadata": {},
     "output_type": "execute_result"
    }
   ],
   "source": [
    "d.T"
   ]
  },
  {
   "cell_type": "code",
   "execution_count": 14,
   "id": "74834f4a",
   "metadata": {
    "scrolled": false
   },
   "outputs": [
    {
     "ename": "TypeError",
     "evalue": "unhashable type: 'list'",
     "output_type": "error",
     "traceback": [
      "\u001b[1;31m---------------------------------------------------------------------------\u001b[0m",
      "\u001b[1;31mTypeError\u001b[0m                                 Traceback (most recent call last)",
      "\u001b[1;32m~\\AppData\\Local\\Temp\\ipykernel_14620\\418058340.py\u001b[0m in \u001b[0;36m<module>\u001b[1;34m\u001b[0m\n\u001b[1;32m----> 1\u001b[1;33m \u001b[0mdf\u001b[0m\u001b[1;33m.\u001b[0m\u001b[0minsert\u001b[0m\u001b[1;33m(\u001b[0m\u001b[0mcolumn\u001b[0m\u001b[1;33m=\u001b[0m\u001b[0mstud_subjects\u001b[0m\u001b[1;33m,\u001b[0m \u001b[0mvalue\u001b[0m\u001b[1;33m=\u001b[0m\u001b[0mstud_grades\u001b[0m\u001b[1;33m,\u001b[0m \u001b[0mloc\u001b[0m\u001b[1;33m=\u001b[0m\u001b[1;36m1\u001b[0m\u001b[1;33m)\u001b[0m\u001b[1;33m\u001b[0m\u001b[1;33m\u001b[0m\u001b[0m\n\u001b[0m",
      "\u001b[1;32m~\\AppData\\Roaming\\Python\\Python37\\site-packages\\pandas\\core\\frame.py\u001b[0m in \u001b[0;36minsert\u001b[1;34m(self, loc, column, value, allow_duplicates)\u001b[0m\n\u001b[0;32m   4410\u001b[0m                 \u001b[1;34m\"'self.flags.allows_duplicate_labels' is False.\"\u001b[0m\u001b[1;33m\u001b[0m\u001b[1;33m\u001b[0m\u001b[0m\n\u001b[0;32m   4411\u001b[0m             )\n\u001b[1;32m-> 4412\u001b[1;33m         \u001b[1;32mif\u001b[0m \u001b[1;32mnot\u001b[0m \u001b[0mallow_duplicates\u001b[0m \u001b[1;32mand\u001b[0m \u001b[0mcolumn\u001b[0m \u001b[1;32min\u001b[0m \u001b[0mself\u001b[0m\u001b[1;33m.\u001b[0m\u001b[0mcolumns\u001b[0m\u001b[1;33m:\u001b[0m\u001b[1;33m\u001b[0m\u001b[1;33m\u001b[0m\u001b[0m\n\u001b[0m\u001b[0;32m   4413\u001b[0m             \u001b[1;31m# Should this be a different kind of error??\u001b[0m\u001b[1;33m\u001b[0m\u001b[1;33m\u001b[0m\u001b[1;33m\u001b[0m\u001b[0m\n\u001b[0;32m   4414\u001b[0m             \u001b[1;32mraise\u001b[0m \u001b[0mValueError\u001b[0m\u001b[1;33m(\u001b[0m\u001b[1;34mf\"cannot insert {column}, already exists\"\u001b[0m\u001b[1;33m)\u001b[0m\u001b[1;33m\u001b[0m\u001b[1;33m\u001b[0m\u001b[0m\n",
      "\u001b[1;32m~\\AppData\\Roaming\\Python\\Python37\\site-packages\\pandas\\core\\indexes\\base.py\u001b[0m in \u001b[0;36m__contains__\u001b[1;34m(self, key)\u001b[0m\n\u001b[0;32m   4570\u001b[0m         \u001b[1;32mFalse\u001b[0m\u001b[1;33m\u001b[0m\u001b[1;33m\u001b[0m\u001b[0m\n\u001b[0;32m   4571\u001b[0m         \"\"\"\n\u001b[1;32m-> 4572\u001b[1;33m         \u001b[0mhash\u001b[0m\u001b[1;33m(\u001b[0m\u001b[0mkey\u001b[0m\u001b[1;33m)\u001b[0m\u001b[1;33m\u001b[0m\u001b[1;33m\u001b[0m\u001b[0m\n\u001b[0m\u001b[0;32m   4573\u001b[0m         \u001b[1;32mtry\u001b[0m\u001b[1;33m:\u001b[0m\u001b[1;33m\u001b[0m\u001b[1;33m\u001b[0m\u001b[0m\n\u001b[0;32m   4574\u001b[0m             \u001b[1;32mreturn\u001b[0m \u001b[0mkey\u001b[0m \u001b[1;32min\u001b[0m \u001b[0mself\u001b[0m\u001b[1;33m.\u001b[0m\u001b[0m_engine\u001b[0m\u001b[1;33m\u001b[0m\u001b[1;33m\u001b[0m\u001b[0m\n",
      "\u001b[1;31mTypeError\u001b[0m: unhashable type: 'list'"
     ]
    }
   ],
   "source": [
    "df.insert(column=stud_subjects, value=stud_grades, loc=1)"
   ]
  },
  {
   "cell_type": "code",
   "execution_count": 3,
   "id": "f4ca9105",
   "metadata": {},
   "outputs": [
    {
     "ename": "ModuleNotFoundError",
     "evalue": "No module named 'efficient_apriori'",
     "output_type": "error",
     "traceback": [
      "\u001b[1;31m---------------------------------------------------------------------------\u001b[0m",
      "\u001b[1;31mModuleNotFoundError\u001b[0m                       Traceback (most recent call last)",
      "\u001b[1;32m~\\AppData\\Local\\Temp\\ipykernel_14916\\2284859817.py\u001b[0m in \u001b[0;36m<module>\u001b[1;34m\u001b[0m\n\u001b[1;32m----> 1\u001b[1;33m \u001b[1;32mfrom\u001b[0m \u001b[0mefficient_apriori\u001b[0m \u001b[1;32mimport\u001b[0m \u001b[0mapriori\u001b[0m\u001b[1;33m\u001b[0m\u001b[1;33m\u001b[0m\u001b[0m\n\u001b[0m\u001b[0;32m      2\u001b[0m transactions = [('eggs', 'bacon', 'soup'),\n\u001b[0;32m      3\u001b[0m                 \u001b[1;33m(\u001b[0m\u001b[1;34m'eggs'\u001b[0m\u001b[1;33m,\u001b[0m \u001b[1;34m'bacon'\u001b[0m\u001b[1;33m,\u001b[0m \u001b[1;34m'apple'\u001b[0m\u001b[1;33m)\u001b[0m\u001b[1;33m,\u001b[0m\u001b[1;33m\u001b[0m\u001b[1;33m\u001b[0m\u001b[0m\n\u001b[0;32m      4\u001b[0m                 ('soup', 'bacon', 'banana')]\n\u001b[0;32m      5\u001b[0m \u001b[0mitemsets\u001b[0m\u001b[1;33m,\u001b[0m \u001b[0mrules\u001b[0m \u001b[1;33m=\u001b[0m \u001b[0mapriori\u001b[0m\u001b[1;33m(\u001b[0m\u001b[0mtransactions\u001b[0m\u001b[1;33m,\u001b[0m \u001b[0moutput_transaction_ids\u001b[0m\u001b[1;33m=\u001b[0m\u001b[1;32mTrue\u001b[0m\u001b[1;33m)\u001b[0m\u001b[1;33m\u001b[0m\u001b[1;33m\u001b[0m\u001b[0m\n",
      "\u001b[1;31mModuleNotFoundError\u001b[0m: No module named 'efficient_apriori'"
     ]
    }
   ],
   "source": [
    "from efficient_apriori import apriori\n",
    "transactions = [('eggs', 'bacon', 'soup'),\n",
    "                ('eggs', 'bacon', 'apple'),\n",
    "                ('soup', 'bacon', 'banana')]\n",
    "itemsets, rules = apriori(transactions, output_transaction_ids=True)\n",
    "print(itemsets)"
   ]
  },
  {
   "cell_type": "code",
   "execution_count": 9,
   "id": "224d8e96",
   "metadata": {},
   "outputs": [],
   "source": [
    "from apyori import apriori\n",
    "\n",
    "transactions = [\n",
    "    ['beer', 'nuts'],\n",
    "    ['beer', 'cheese'],\n",
    "]\n",
    "\n",
    "results = list(apriori(transactions))"
   ]
  },
  {
   "cell_type": "code",
   "execution_count": 10,
   "id": "3d63b24b",
   "metadata": {},
   "outputs": [
    {
     "data": {
      "text/plain": [
       "[RelationRecord(items=frozenset({'beer'}), support=1.0, ordered_statistics=[OrderedStatistic(items_base=frozenset(), items_add=frozenset({'beer'}), confidence=1.0, lift=1.0)]),\n",
       " RelationRecord(items=frozenset({'cheese'}), support=0.5, ordered_statistics=[OrderedStatistic(items_base=frozenset(), items_add=frozenset({'cheese'}), confidence=0.5, lift=1.0)]),\n",
       " RelationRecord(items=frozenset({'nuts'}), support=0.5, ordered_statistics=[OrderedStatistic(items_base=frozenset(), items_add=frozenset({'nuts'}), confidence=0.5, lift=1.0)]),\n",
       " RelationRecord(items=frozenset({'cheese', 'beer'}), support=0.5, ordered_statistics=[OrderedStatistic(items_base=frozenset(), items_add=frozenset({'cheese', 'beer'}), confidence=0.5, lift=1.0), OrderedStatistic(items_base=frozenset({'beer'}), items_add=frozenset({'cheese'}), confidence=0.5, lift=1.0), OrderedStatistic(items_base=frozenset({'cheese'}), items_add=frozenset({'beer'}), confidence=1.0, lift=1.0)]),\n",
       " RelationRecord(items=frozenset({'nuts', 'beer'}), support=0.5, ordered_statistics=[OrderedStatistic(items_base=frozenset(), items_add=frozenset({'nuts', 'beer'}), confidence=0.5, lift=1.0), OrderedStatistic(items_base=frozenset({'beer'}), items_add=frozenset({'nuts'}), confidence=0.5, lift=1.0), OrderedStatistic(items_base=frozenset({'nuts'}), items_add=frozenset({'beer'}), confidence=1.0, lift=1.0)])]"
      ]
     },
     "execution_count": 10,
     "metadata": {},
     "output_type": "execute_result"
    }
   ],
   "source": [
    "results"
   ]
  },
  {
   "cell_type": "code",
   "execution_count": null,
   "id": "4411b295",
   "metadata": {},
   "outputs": [],
   "source": []
  }
 ],
 "metadata": {
  "kernelspec": {
   "display_name": "Python 3 (ipykernel)",
   "language": "python",
   "name": "python3"
  },
  "language_info": {
   "codemirror_mode": {
    "name": "ipython",
    "version": 3
   },
   "file_extension": ".py",
   "mimetype": "text/x-python",
   "name": "python",
   "nbconvert_exporter": "python",
   "pygments_lexer": "ipython3",
   "version": "3.7.16"
  }
 },
 "nbformat": 4,
 "nbformat_minor": 5
}
